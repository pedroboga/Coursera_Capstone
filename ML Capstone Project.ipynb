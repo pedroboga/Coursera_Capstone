{
    "cells": [
        {
            "cell_type": "markdown",
            "metadata": {},
            "source": "# ML Capstone Project"
        },
        {
            "cell_type": "markdown",
            "metadata": {},
            "source": "## Introduction/Business Problem"
        },
        {
            "cell_type": "markdown",
            "metadata": {},
            "source": "This project is meant to analyse the traffic data from Seattle - USA, specially all the collisions recorded and, with that, try to understand the major causes of accidents and predict when a collision is more likely to occur.\n\nWith this project, i'll try to reach anyone interested in the subject, but the main target audience are the people from the Seattle area, lawyers, traffic guards and city regulators."
        },
        {
            "cell_type": "markdown",
            "metadata": {},
            "source": "## Data"
        },
        {
            "cell_type": "markdown",
            "metadata": {},
            "source": "For this project, i'll be using a dataset provided by the Seattle Traffic Management and the Seattle Traffic Records Group, in which is recorded every collision that happened since 2004, and it involves not only cars, but also pedestrians and bicycle. The data provided is very complete and contains various attributes to be analyzed, such as number of vehicles involved in the collision, whether or not the collision was due to inattention, speeding, conditions of the road, and so on.\n\nI will try to determine the main cause of traffic collisions and what relations we can get from the data. For example, does the time of the day influences in traffic collisions? Are there a specific lane segment in the road more likely to traffic collisions occur?\n\nIn this project, i'll cross these information and try to find any relations between them. With that done, i'll try to predict when, where and what conditions have more influence in a traffic collision."
        },
        {
            "cell_type": "markdown",
            "metadata": {},
            "source": "## Methodology"
        },
        {
            "cell_type": "markdown",
            "metadata": {},
            "source": "The methodology for this project will consist of, at first, data retrieval, analysis and preparation of the data. I'm using Jupyther Notebook to do all the work and presentation.\n\nThe first thing to do is prepare our environment, so let's import the python libraries needed:"
        },
        {
            "cell_type": "code",
            "execution_count": 2,
            "metadata": {},
            "outputs": [],
            "source": "import pandas as pd, numpy as np, matplotlib as mp, seaborn as sb\nfrom matplotlib import pyplot as plt"
        },
        {
            "cell_type": "markdown",
            "metadata": {},
            "source": "Now we are reay to import the data"
        },
        {
            "cell_type": "code",
            "execution_count": 25,
            "metadata": {},
            "outputs": [
                {
                    "data": {
                        "text/plain": "['SEVERITYCODE',\n 'X',\n 'Y',\n 'OBJECTID',\n 'INCKEY',\n 'COLDETKEY',\n 'REPORTNO',\n 'STATUS',\n 'ADDRTYPE',\n 'INTKEY',\n 'LOCATION',\n 'EXCEPTRSNCODE',\n 'EXCEPTRSNDESC',\n 'SEVERITYCODE.1',\n 'SEVERITYDESC',\n 'COLLISIONTYPE',\n 'PERSONCOUNT',\n 'PEDCOUNT',\n 'PEDCYLCOUNT',\n 'VEHCOUNT',\n 'INCDATE',\n 'INCDTTM',\n 'JUNCTIONTYPE',\n 'SDOT_COLCODE',\n 'SDOT_COLDESC',\n 'INATTENTIONIND',\n 'UNDERINFL',\n 'WEATHER',\n 'ROADCOND',\n 'LIGHTCOND',\n 'PEDROWNOTGRNT',\n 'SDOTCOLNUM',\n 'SPEEDING',\n 'ST_COLCODE',\n 'ST_COLDESC',\n 'SEGLANEKEY',\n 'CROSSWALKKEY',\n 'HITPARKEDCAR']"
                    },
                    "execution_count": 25,
                    "metadata": {},
                    "output_type": "execute_result"
                }
            ],
            "source": "df = pd.read_csv('https://s3.us.cloud-object-storage.appdomain.cloud/cf-courses-data/CognitiveClass/DP0701EN/version-2/Data-Collisions.csv')\nlist(df.columns)"
        },
        {
            "cell_type": "markdown",
            "metadata": {},
            "source": "Many of this columns aren't necessary for this analysis, so let's discard a few from our data frame:"
        },
        {
            "cell_type": "code",
            "execution_count": 26,
            "metadata": {},
            "outputs": [],
            "source": "df.drop(['OBJECTID',\n 'INCKEY',\n 'X',\n 'Y',\n 'COLDETKEY',\n 'REPORTNO',\n 'STATUS',\n 'ADDRTYPE',\n 'INTKEY',\n 'EXCEPTRSNCODE',\n 'EXCEPTRSNDESC',\n 'COLLISIONTYPE',\n 'PERSONCOUNT',\n 'PEDCOUNT',\n 'PEDCYLCOUNT',\n 'VEHCOUNT',\n 'INCDATE',\n 'JUNCTIONTYPE',\n 'SDOT_COLCODE',\n 'SDOT_COLDESC',\n 'PEDROWNOTGRNT',\n 'SDOTCOLNUM',\n 'ST_COLCODE',\n 'ST_COLDESC',\n 'SEGLANEKEY',\n 'CROSSWALKKEY',\n 'SPEEDING',\n 'INATTENTIONIND',\n 'HITPARKEDCAR'], axis=1, inplace=True)"
        },
        {
            "cell_type": "code",
            "execution_count": 27,
            "metadata": {},
            "outputs": [
                {
                    "data": {
                        "text/html": "<div>\n<style scoped>\n    .dataframe tbody tr th:only-of-type {\n        vertical-align: middle;\n    }\n\n    .dataframe tbody tr th {\n        vertical-align: top;\n    }\n\n    .dataframe thead th {\n        text-align: right;\n    }\n</style>\n<table border=\"1\" class=\"dataframe\">\n  <thead>\n    <tr style=\"text-align: right;\">\n      <th></th>\n      <th>SEVERITYCODE</th>\n      <th>LOCATION</th>\n      <th>SEVERITYCODE.1</th>\n      <th>SEVERITYDESC</th>\n      <th>INCDTTM</th>\n      <th>UNDERINFL</th>\n      <th>WEATHER</th>\n      <th>ROADCOND</th>\n      <th>LIGHTCOND</th>\n    </tr>\n  </thead>\n  <tbody>\n    <tr>\n      <th>0</th>\n      <td>2</td>\n      <td>5TH AVE NE AND NE 103RD ST</td>\n      <td>2</td>\n      <td>Injury Collision</td>\n      <td>3/27/2013 2:54:00 PM</td>\n      <td>N</td>\n      <td>Overcast</td>\n      <td>Wet</td>\n      <td>Daylight</td>\n    </tr>\n    <tr>\n      <th>1</th>\n      <td>1</td>\n      <td>AURORA BR BETWEEN RAYE ST AND BRIDGE WAY N</td>\n      <td>1</td>\n      <td>Property Damage Only Collision</td>\n      <td>12/20/2006 6:55:00 PM</td>\n      <td>0</td>\n      <td>Raining</td>\n      <td>Wet</td>\n      <td>Dark - Street Lights On</td>\n    </tr>\n    <tr>\n      <th>2</th>\n      <td>1</td>\n      <td>4TH AVE BETWEEN SENECA ST AND UNIVERSITY ST</td>\n      <td>1</td>\n      <td>Property Damage Only Collision</td>\n      <td>11/18/2004 10:20:00 AM</td>\n      <td>0</td>\n      <td>Overcast</td>\n      <td>Dry</td>\n      <td>Daylight</td>\n    </tr>\n    <tr>\n      <th>3</th>\n      <td>1</td>\n      <td>2ND AVE BETWEEN MARION ST AND MADISON ST</td>\n      <td>1</td>\n      <td>Property Damage Only Collision</td>\n      <td>3/29/2013 9:26:00 AM</td>\n      <td>N</td>\n      <td>Clear</td>\n      <td>Dry</td>\n      <td>Daylight</td>\n    </tr>\n    <tr>\n      <th>4</th>\n      <td>2</td>\n      <td>SWIFT AVE S AND SWIFT AV OFF RP</td>\n      <td>2</td>\n      <td>Injury Collision</td>\n      <td>1/28/2004 8:04:00 AM</td>\n      <td>0</td>\n      <td>Raining</td>\n      <td>Wet</td>\n      <td>Daylight</td>\n    </tr>\n  </tbody>\n</table>\n</div>",
                        "text/plain": "   SEVERITYCODE                                     LOCATION  SEVERITYCODE.1  \\\n0             2                   5TH AVE NE AND NE 103RD ST               2   \n1             1   AURORA BR BETWEEN RAYE ST AND BRIDGE WAY N               1   \n2             1  4TH AVE BETWEEN SENECA ST AND UNIVERSITY ST               1   \n3             1     2ND AVE BETWEEN MARION ST AND MADISON ST               1   \n4             2              SWIFT AVE S AND SWIFT AV OFF RP               2   \n\n                     SEVERITYDESC                 INCDTTM UNDERINFL   WEATHER  \\\n0                Injury Collision    3/27/2013 2:54:00 PM         N  Overcast   \n1  Property Damage Only Collision   12/20/2006 6:55:00 PM         0   Raining   \n2  Property Damage Only Collision  11/18/2004 10:20:00 AM         0  Overcast   \n3  Property Damage Only Collision    3/29/2013 9:26:00 AM         N     Clear   \n4                Injury Collision    1/28/2004 8:04:00 AM         0   Raining   \n\n  ROADCOND                LIGHTCOND  \n0      Wet                 Daylight  \n1      Wet  Dark - Street Lights On  \n2      Dry                 Daylight  \n3      Dry                 Daylight  \n4      Wet                 Daylight  "
                    },
                    "execution_count": 27,
                    "metadata": {},
                    "output_type": "execute_result"
                }
            ],
            "source": "df.head()"
        },
        {
            "cell_type": "markdown",
            "metadata": {},
            "source": "Now it looks better.\n\nAccording with the data documentation, the SEVERITYCODE is a code that corresponds to the severity of the\ncollision:\n\n\u2022 3\u2014fatality\n\n\u2022 2b\u2014serious injury\n\n\u2022 2\u2014injury\n\n\u2022 1\u2014prop damage\n\n\u2022 0\u2014unknown\n\nSo, let's check our data and see the how many cases we have for each kind of severity code:"
        },
        {
            "cell_type": "code",
            "execution_count": 14,
            "metadata": {},
            "outputs": [
                {
                    "data": {
                        "text/plain": "<matplotlib.axes._subplots.AxesSubplot at 0x7f7a5f201278>"
                    },
                    "execution_count": 14,
                    "metadata": {},
                    "output_type": "execute_result"
                },
                {
                    "data": {
                        "image/png": "[encoded data removed]",
                        "text/plain": "<Figure size 432x288 with 1 Axes>"
                    },
                    "metadata": {
                        "needs_background": "light"
                    },
                    "output_type": "display_data"
                }
            ],
            "source": "df['SEVERITYCODE'] = pd.to_numeric(df['SEVERITYCODE'])\ndf['SEVERITYCODE'].value_counts().plot(kind='bar')"
        },
        {
            "cell_type": "markdown",
            "metadata": {},
            "source": "Let's try to find now if there's any particular condition that we can attribute to be a main cause of collisions. I'll try with the Weather, Road Condition, Light Condition"
        },
        {
            "cell_type": "code",
            "execution_count": 15,
            "metadata": {},
            "outputs": [
                {
                    "data": {
                        "text/plain": "Clear                       111135\nRaining                      33145\nOvercast                     27714\nUnknown                      15091\nSnowing                        907\nOther                          832\nFog/Smog/Smoke                 569\nSleet/Hail/Freezing Rain       113\nBlowing Sand/Dirt               56\nSevere Crosswind                25\nPartly Cloudy                    5\nName: WEATHER, dtype: int64"
                    },
                    "execution_count": 15,
                    "metadata": {},
                    "output_type": "execute_result"
                }
            ],
            "source": "df['WEATHER'].value_counts()"
        },
        {
            "cell_type": "code",
            "execution_count": 16,
            "metadata": {},
            "outputs": [
                {
                    "data": {
                        "text/plain": "Dry               124510\nWet                47474\nUnknown            15078\nIce                 1209\nSnow/Slush          1004\nOther                132\nStanding Water       115\nSand/Mud/Dirt         75\nOil                   64\nName: ROADCOND, dtype: int64"
                    },
                    "execution_count": 16,
                    "metadata": {},
                    "output_type": "execute_result"
                }
            ],
            "source": "df['ROADCOND'].value_counts()"
        },
        {
            "cell_type": "code",
            "execution_count": 17,
            "metadata": {},
            "outputs": [
                {
                    "data": {
                        "text/plain": "Daylight                    116137\nDark - Street Lights On      48507\nUnknown                      13473\nDusk                          5902\nDawn                          2502\nDark - No Street Lights       1537\nDark - Street Lights Off      1199\nOther                          235\nDark - Unknown Lighting         11\nName: LIGHTCOND, dtype: int64"
                    },
                    "execution_count": 17,
                    "metadata": {},
                    "output_type": "execute_result"
                }
            ],
            "source": "df['LIGHTCOND'].value_counts()"
        },
        {
            "cell_type": "markdown",
            "metadata": {},
            "source": "## Results"
        },
        {
            "cell_type": "markdown",
            "metadata": {},
            "source": "After analysing and preparing the data, we could determine that most of the collisions happen when the weather is clear, the roads are dry and it's still daylight."
        },
        {
            "cell_type": "markdown",
            "metadata": {},
            "source": "## Discussion and Conclusion"
        },
        {
            "cell_type": "markdown",
            "metadata": {},
            "source": "Maybe a common knowledge is that most collisions happen during nightime, under bad weather and poor road conditions. But after this project, it's easy to determine that it's the other way around.\n\nWith that in mind, we can determine that what could really improve the road saffety is to create educational programs and a marketing campaing urging the drives to be more careful and respect the traffic laws."
        },
        {
            "cell_type": "code",
            "execution_count": null,
            "metadata": {},
            "outputs": [],
            "source": ""
        }
    ],
    "metadata": {
        "kernelspec": {
            "display_name": "Python 3.6",
            "language": "python",
            "name": "python3"
        },
        "language_info": {
            "codemirror_mode": {
                "name": "ipython",
                "version": 3
            },
            "file_extension": ".py",
            "mimetype": "text/x-python",
            "name": "python",
            "nbconvert_exporter": "python",
            "pygments_lexer": "ipython3",
            "version": "3.6.9"
        }
    },
    "nbformat": 4,
    "nbformat_minor": 1
}